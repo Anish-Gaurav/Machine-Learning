{
  "nbformat": 4,
  "nbformat_minor": 0,
  "metadata": {
    "colab": {
      "provenance": []
    },
    "kernelspec": {
      "name": "python3",
      "display_name": "Python 3"
    },
    "language_info": {
      "name": "python"
    }
  },
  "cells": [
    {
      "cell_type": "code",
      "execution_count": 1,
      "metadata": {
        "id": "4bzeOlUGc_aj"
      },
      "outputs": [],
      "source": [
        "\n",
        "from google.colab import files\n",
        "import pandas as pd\n",
        "import numpy as np\n",
        "from sklearn.feature_extraction.text import CountVectorizer, TfidfVectorizer\n",
        "from sklearn.model_selection import train_test_split\n",
        "from sklearn.metrics import accuracy_score, precision_score, recall_score, f1_score, confusion_matrix\n",
        "\n"
      ]
    },
    {
      "cell_type": "code",
      "source": [
        "\n",
        "data = pd.read_csv('/spam.csv')\n",
        "X_text = data['Message'].values\n",
        "y = np.where(data['Category'] == 'spam', 1, 0)  # spam → 1, ham → 0\n"
      ],
      "metadata": {
        "id": "_1ORXUXzdUpQ"
      },
      "execution_count": 2,
      "outputs": []
    },
    {
      "cell_type": "code",
      "source": [
        "print(data.columns)"
      ],
      "metadata": {
        "colab": {
          "base_uri": "https://localhost:8080/"
        },
        "id": "nL50Toi1d97M",
        "outputId": "c8fe0351-7560-4910-9291-14e9119667bf"
      },
      "execution_count": 3,
      "outputs": [
        {
          "output_type": "stream",
          "name": "stdout",
          "text": [
            "Index(['Category', 'Message'], dtype='object')\n"
          ]
        }
      ]
    },
    {
      "cell_type": "code",
      "source": [
        "\n",
        "X_train_text, X_test_text, y_train, y_test = train_test_split(X_text, y, test_size=0.2, random_state=42)\n"
      ],
      "metadata": {
        "id": "hQh0sEe9d7KM"
      },
      "execution_count": 4,
      "outputs": []
    },
    {
      "cell_type": "code",
      "source": [
        "\n",
        "class MultinomialNaiveBayes:\n",
        "    def __init__(self, alpha=1.0):\n",
        "        self.alpha = alpha  # Laplace smoothing factor\n",
        "\n",
        "    def fit(self, X, y):\n",
        "        self.classes = np.unique(y)\n",
        "        self.class_priors = {}\n",
        "        self.word_counts = {}\n",
        "        self.class_word_totals = {}\n",
        "        self.vocab_size = X.shape[1]\n",
        "\n",
        "        for c in self.classes:\n",
        "            X_c = X[y == c]\n",
        "            self.class_priors[c] = X_c.shape[0] / X.shape[0]\n",
        "            self.word_counts[c] = np.sum(X_c, axis=0) + self.alpha\n",
        "            self.class_word_totals[c] = np.sum(self.word_counts[c])\n",
        "\n",
        "    def predict(self, X):\n",
        "        predictions = []\n",
        "        for x in X:\n",
        "            class_probs = {}\n",
        "            for c in self.classes:\n",
        "                log_prior = np.log(self.class_priors[c])\n",
        "                log_likelihood = np.sum(x * np.log(self.word_counts[c] / self.class_word_totals[c]))\n",
        "                class_probs[c] = log_prior + log_likelihood\n",
        "            predictions.append(max(class_probs, key=class_probs.get))\n",
        "        return np.array(predictions)\n",
        "\n",
        "\n",
        "results = []\n",
        "\n"
      ],
      "metadata": {
        "id": "7wt8-aLQeNJX"
      },
      "execution_count": 5,
      "outputs": []
    },
    {
      "cell_type": "code",
      "source": [
        "for vectorizer_name, Vectorizer in [('CountVectorizer', CountVectorizer), ('TfidfVectorizer', TfidfVectorizer)]:\n",
        "    vectorizer = Vectorizer()\n",
        "    X_train = vectorizer.fit_transform(X_train_text).toarray()\n",
        "    X_test = vectorizer.transform(X_test_text).toarray()\n",
        "\n",
        "    nb = MultinomialNaiveBayes(alpha=1.0)\n",
        "    nb.fit(X_train, y_train)\n",
        "    y_pred = nb.predict(X_test)\n",
        "\n",
        "    acc = accuracy_score(y_test, y_pred)\n",
        "    prec = precision_score(y_test, y_pred)\n",
        "    rec = recall_score(y_test, y_pred)\n",
        "    f1 = f1_score(y_test, y_pred)\n",
        "    cm = confusion_matrix(y_test, y_pred)\n",
        "\n",
        "    results.append({\n",
        "        'Model': 'Naive Bayes',\n",
        "        'Vectorizer': vectorizer_name,\n",
        "        'Reg. λ': '-',\n",
        "        'Accuracy': round(acc, 4),\n",
        "        'Precision': round(prec, 4),\n",
        "        'Recall': round(rec, 4),\n",
        "        'F1': round(f1, 4)\n",
        "    })\n",
        "    print(f\"\\n=== Results using {vectorizer_name} ===\")\n",
        "    print(f\"Accuracy: {acc}\")\n",
        "    print(f\"Precision: {prec}\")\n",
        "    print(f\"Recall: {rec}\")\n",
        "    print(f\"F1-score: {f1}\")\n",
        "    print(f\"Confusion Matrix:\\n{cm}\")\n",
        "\n",
        "\n",
        ""
      ],
      "metadata": {
        "colab": {
          "base_uri": "https://localhost:8080/"
        },
        "id": "e2C8lb_mekld",
        "outputId": "4c5a2d20-f36c-4ee7-b4c1-4f48b22e26a8"
      },
      "execution_count": 8,
      "outputs": [
        {
          "output_type": "stream",
          "name": "stdout",
          "text": [
            "\n",
            "=== Results using CountVectorizer ===\n",
            "Accuracy: 0.9919282511210762\n",
            "Precision: 1.0\n",
            "Recall: 0.9395973154362416\n",
            "F1-score: 0.9688581314878892\n",
            "Confusion Matrix:\n",
            "[[966   0]\n",
            " [  9 140]]\n",
            "\n",
            "=== Results using TfidfVectorizer ===\n",
            "Accuracy: 0.9650224215246637\n",
            "Precision: 1.0\n",
            "Recall: 0.738255033557047\n",
            "F1-score: 0.8494208494208494\n",
            "Confusion Matrix:\n",
            "[[966   0]\n",
            " [ 39 110]]\n"
          ]
        }
      ]
    },
    {
      "cell_type": "code",
      "source": [
        "\n",
        "results_df = pd.DataFrame(results)\n",
        "print(\"                                 Summary of Results          \")\n",
        "print(results_df)"
      ],
      "metadata": {
        "colab": {
          "base_uri": "https://localhost:8080/"
        },
        "id": "wEdNSUUpeqwQ",
        "outputId": "78aca6b7-ffd0-4f1d-b35c-e68d415c1419"
      },
      "execution_count": 12,
      "outputs": [
        {
          "output_type": "stream",
          "name": "stdout",
          "text": [
            "                                 Summary of Results          \n",
            "         Model       Vectorizer Reg. λ  Accuracy  Precision  Recall      F1\n",
            "0  Naive Bayes  CountVectorizer      -    0.9919        1.0  0.9396  0.9689\n",
            "1  Naive Bayes  TfidfVectorizer      -    0.9650        1.0  0.7383  0.8494\n",
            "2  Naive Bayes  CountVectorizer      -    0.9919        1.0  0.9396  0.9689\n",
            "3  Naive Bayes  TfidfVectorizer      -    0.9650        1.0  0.7383  0.8494\n"
          ]
        }
      ]
    }
  ]
}